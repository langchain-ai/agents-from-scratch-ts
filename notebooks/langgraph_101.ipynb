{
 "cells": [
  {
   "cell_type": "markdown",
   "id": "dc082433",
   "metadata": {},
   "source": [
    "# LangGraph 101 Typescript\n",
    "\n",
    "[LLMs](https://js.langchain.com/docs/modules/models/chat/) make it possible to embed intelligence into a new class of applications. [LangGraph](https://langchain-ai.github.io/langgraphjs/) is a TypeScript/JavaScript framework to help build applications with LLMs. Here, we will overview the basics of LangGraph, explain its benefits, show how to use it to build workflows and agents, and show how it works with [LangChain JS](https://js.langchain.com/) and [LangSmith](https://smith.langchain.com/).\n",
    "\n",
    "![ecosystem](img/ecosystem.png)\n",
    "\n",
    "## Chat models\n",
    "\n",
    "[Chat models](https://js.langchain.com/docs/modules/models/chat/) are the foundation of LLM applications. In TypeScript, chat models are accessed via standardized interfaces that take an array of message objects and return a response message. LangChain JS provides [a unified interface for chat models](https://js.langchain.com/docs/modules/models/chat/), making it easy to [access many different providers](https://js.langchain.com/docs/integrations/providers/)."
   ]
  },
  {
   "cell_type": "code",
   "execution_count": 1,
   "id": "cecc2b24",
   "metadata": {},
   "outputs": [],
   "source": [
    "// LLM Initialization\n",
    "// Set your OpenAI API key in your environment or .env file\n",
    "const OPENAI_API_KEY = process.env.OPENAI_API_KEY;\n",
    "if (!OPENAI_API_KEY) {\n",
    "  throw new Error(\"OPENAI_API_KEY is not set in the environment.\");\n",
    "}"
   ]
  },
  {
   "cell_type": "code",
   "execution_count": 20,
   "id": "e0ee8f6c",
   "metadata": {},
   "outputs": [],
   "source": [
    "import { initChatModel } from \"langchain/chat_models/universal\";\n",
    "import \"@langchain/langgraph/zod\";\n",
    "// Initialize the chat model (OpenAI GPT-4.1)\n",
    "const llm = initChatModel(\"openai:gpt-4.1\", { temperature: 0.0 });"
   ]
  },
  {
   "cell_type": "markdown",
   "id": "50777b0b",
   "metadata": {},
   "source": [
    "## Running the model\n",
    "\n",
    "The `initChatModel` interface in LangChain JS provides [standardized methods](https://js.langchain.com/docs/concepts/runnables/) for using chat models, which include:\n",
    "- `invoke()`: Synchronously process inputs and return outputs\n",
    "- `stream()`: Return outputs [incrementally](https://js.langchain.com/docs/concepts/streaming/) as they're generated"
   ]
  },
  {
   "cell_type": "code",
   "execution_count": 22,
   "id": "a28159d5",
   "metadata": {},
   "outputs": [
    {
     "name": "stderr",
     "output_type": "stream",
     "text": [
      "2:26 - Property 'stream' does not exist on type 'Promise<ConfigurableModel<BaseLanguageModelInput, ConfigurableChatModelCallOptions>>'.\n"
     ]
    }
   ],
   "source": [
    "// Run the model\n",
    "const result = await llm.stream(\"What is LangGraph?\");"
   ]
  },
  {
   "cell_type": "code",
   "execution_count": 23,
   "id": "41137023",
   "metadata": {},
   "outputs": [
    {
     "name": "stderr",
     "output_type": "stream",
     "text": [
      "2:29 - Cannot find name 'result'.\n"
     ]
    }
   ],
   "source": [
    "// Check the result type\n",
    "console.log(\"Result type:\", result.type); // Should be \"ai\" for AIMessage"
   ]
  },
  {
   "cell_type": "code",
   "execution_count": 5,
   "id": "dc1d00eb",
   "metadata": {},
   "outputs": [
    {
     "data": {
      "text/plain": [
       "AIMessage(content='**LangGraph** is an open-source framework designed for building stateful, multi-agent applications powered by Large Language Models (LLMs). It extends the popular [LangChain](https://www.langchain.com/) ecosystem, focusing on enabling complex workflows where multiple agents (LLMs, tools, or humans) interact in a graph-like structure.\\n\\n### Key Features\\n\\n- **Graph-based Workflows:**  \\n  LangGraph lets you define workflows as graphs, where each node can be an agent, a tool, or a function, and edges represent possible transitions based on state or output.\\n- **Stateful Interactions:**  \\n  Unlike simple chains, LangGraph maintains and updates a shared state as the workflow progresses, allowing for memory, context, and iterative reasoning.\\n- **Multi-Agent Collaboration:**  \\n  Easily orchestrate multiple agents that can communicate, collaborate, or debate to solve complex tasks.\\n- **Flexible Control Flow:**  \\n  Supports loops, branching, and conditional logic, making it suitable for advanced applications like multi-turn conversations, document analysis, or collaborative problem-solving.\\n\\n### Typical Use Cases\\n\\n- **Conversational AI:** Multi-turn, context-aware chatbots or assistants.\\n- **Agentic Workflows:** Agents that plan, execute, and reflect on tasks, possibly using tools or APIs.\\n- **Collaborative Agents:** Multiple LLMs (or LLM+human) working together, e.g., for code review, research, or negotiation.\\n\\n### Example\\n\\nA simple LangGraph workflow might look like:\\n- User input → Agent 1 (Planner) → Agent 2 (Executor) → Tool → Output\\n\\n### Resources\\n\\n- **GitHub:** [LangGraph repository](https://github.com/langchain-ai/langgraph)\\n- **Docs:** [LangGraph documentation](https://langchain-ai.github.io/langgraph/)\\n- **Announcement:** [LangChain blog post](https://blog.langchain.dev/introducing-langgraph/)\\n\\n---\\n\\n**In summary:**  \\nLangGraph is a framework for building advanced, stateful, multi-agent LLM applications using graph-based workflows, enabling more complex and interactive AI systems than simple chains or pipelines.', additional_kwargs={'refusal': None}, response_metadata={'token_usage': {'completion_tokens': 432, 'prompt_tokens': 12, 'total_tokens': 444, 'completion_tokens_details': {'accepted_prediction_tokens': 0, 'audio_tokens': 0, 'reasoning_tokens': 0, 'rejected_prediction_tokens': 0}, 'prompt_tokens_details': {'audio_tokens': 0, 'cached_tokens': 0}}, 'model_name': 'gpt-4.1-2025-04-14', 'system_fingerprint': 'fp_cf18407276', 'id': 'chatcmpl-BTwK4OamVymNKUy4QaWpwmAFL3259', 'finish_reason': 'stop', 'logprobs': None}, id='run-3fd9d1ef-4a0a-4bed-bcbb-b97bd7737568-0', usage_metadata={'input_tokens': 12, 'output_tokens': 432, 'total_tokens': 444, 'input_token_details': {'audio': 0, 'cache_read': 0}, 'output_token_details': {'audio': 0, 'reasoning': 0}})"
      ]
     },
     "execution_count": 5,
     "metadata": {},
     "output_type": "execute_result"
    }
   ],
   "source": [
    "// Print the result content\n",
    "console.log(result);"
   ]
  },
  {
   "cell_type": "code",
   "execution_count": 6,
   "id": "e7bc6518",
   "metadata": {},
   "outputs": [
    {
     "data": {
      "text/plain": [
       "'**LangGraph** is an open-source framework designed for building stateful, multi-agent applications powered by Large Language Models (LLMs). It extends the popular [LangChain](https://www.langchain.com/) ecosystem, focusing on enabling complex workflows where multiple agents (LLMs, tools, or humans) interact in a graph-like structure.\\n\\n### Key Features\\n\\n- **Graph-based Workflows:**  \\n  LangGraph lets you define workflows as graphs, where each node can be an agent, a tool, or a function, and edges represent possible transitions based on state or output.\\n- **Stateful Interactions:**  \\n  Unlike simple chains, LangGraph maintains and updates a shared state as the workflow progresses, allowing for memory, context, and iterative reasoning.\\n- **Multi-Agent Collaboration:**  \\n  Easily orchestrate multiple agents that can communicate, collaborate, or debate to solve complex tasks.\\n- **Flexible Control Flow:**  \\n  Supports loops, branching, and conditional logic, making it suitable for advanced applications like multi-turn conversations, document analysis, or collaborative problem-solving.\\n\\n### Typical Use Cases\\n\\n- **Conversational AI:** Multi-turn, context-aware chatbots or assistants.\\n- **Agentic Workflows:** Agents that plan, execute, and reflect on tasks, possibly using tools or APIs.\\n- **Collaborative Agents:** Multiple LLMs (or LLM+human) working together, e.g., for code review, research, or negotiation.\\n\\n### Example\\n\\nA simple LangGraph workflow might look like:\\n- User input → Agent 1 (Planner) → Agent 2 (Executor) → Tool → Output\\n\\n### Resources\\n\\n- **GitHub:** [LangGraph repository](https://github.com/langchain-ai/langgraph)\\n- **Docs:** [LangGraph documentation](https://langchain-ai.github.io/langgraph/)\\n- **Announcement:** [LangChain blog post](https://blog.langchain.dev/introducing-langgraph/)\\n\\n---\\n\\n**In summary:**  \\nLangGraph is a framework for building advanced, stateful, multi-agent LLM applications using graph-based workflows, enabling more complex and interactive AI systems than simple chains or pipelines.'"
      ]
     },
     "execution_count": 6,
     "metadata": {},
     "output_type": "execute_result"
    }
   ],
   "source": [
    "// Extract the result content\n",
    "console.log(result.content);"
   ]
  },
  {
   "cell_type": "markdown",
   "id": "9a24d8ef",
   "metadata": {},
   "source": [
    "## Tools\n",
    "\n",
    "[Tools](https://js.langchain.com/docs/concepts/tools/) are utilities that can be called by a chat model. In LangChain JS, you create tools using the `tool` function from `@langchain/core/tools`, often with Zod schemas for runtime validation. This approach automatically infers the tool's name, description, and expected arguments from the function definition. You can also use [Model Context Protocol (MCP) servers](https://github.com/langchain-ai/langchain-mcp-adapters) as LangChain-compatible tools in TypeScript."
   ]
  },
  {
   "cell_type": "code",
   "execution_count": null,
   "id": "afdff275",
   "metadata": {},
   "outputs": [
    {
     "name": "stderr",
     "output_type": "stream",
     "text": [
      "5:21 - Expected 2 arguments, but got 1.\n"
     ]
    }
   ],
   "source": [
    "import { tool } from \"@langchain/core/tools\";\n",
    "import { z } from \"zod\";\n",
    "\n",
    "// Define the write_email tool using LangChain's tool function and Zod for validation\n",
    " const writeEmail = tool({\n",
    "  name: \"write_email\",\n",
    "  description: \"Write and send an email.\",\n",
    "  schema: z.object({\n",
    "    to: z.string(),\n",
    "    subject: z.string(),\n",
    "    content: z.string(),\n",
    "  }),\n",
    "  func: async ({ to, subject, content }) => {\n",
    "    // Placeholder response - in real app would send email\n",
    "    return `Email sent to ${to} with subject '${subject}' and content: ${content}`;\n",
    "  },\n",
    "});"
   ]
  },
  {
   "cell_type": "code",
   "execution_count": 5,
   "id": "c52ec55b-0b60-4b0c-95d4-ff528a64694e",
   "metadata": {},
   "outputs": [
    {
     "data": {
      "text/plain": [
       "langchain_core.tools.structured.StructuredTool"
      ]
     },
     "execution_count": 5,
     "metadata": {},
     "output_type": "execute_result"
    }
   ],
   "source": [
    "// Check the tool type\n",
    "console.log(\"Tool type:\", typeof writeEmail); // Should be \"function\""
   ]
  },
  {
   "cell_type": "code",
   "execution_count": 6,
   "id": "23a40647-3d48-4760-aabe-144d627de110",
   "metadata": {},
   "outputs": [
    {
     "data": {
      "text/plain": [
       "{'to': {'title': 'To', 'type': 'string'},\n",
       " 'subject': {'title': 'Subject', 'type': 'string'},\n",
       " 'content': {'title': 'Content', 'type': 'string'}}"
      ]
     },
     "execution_count": 6,
     "metadata": {},
     "output_type": "execute_result"
    }
   ],
   "source": [
    "// Tool argument schema (Zod schema)\n",
    "console.log(\"Tool argument schema:\", writeEmail.schema);"
   ]
  },
  {
   "cell_type": "code",
   "execution_count": 7,
   "id": "abd85ae4-9d4c-4efa-9577-aca96e9f22cd",
   "metadata": {},
   "outputs": [
    {
     "data": {
      "text/plain": [
       "'Write and send an email.'"
      ]
     },
     "execution_count": 7,
     "metadata": {},
     "output_type": "execute_result"
    }
   ],
   "source": [
    "// Tool description\n",
    "console.log(\"Tool description:\", writeEmail.description);"
   ]
  },
  {
   "cell_type": "markdown",
   "id": "c8a6b427",
   "metadata": {},
   "source": [
    "## Tool Calling\n",
    "\n",
    "Tools can be [called](https://js.langchain.com/docs/concepts/tool-calling/) by LLMs. When a tool is bound to the model, the model can choose to call the tool by returning a structured output with tool arguments. In TypeScript, use the `bindTools` method to augment an LLM with tools.\n",
    "\n",
    "![tool-img](img/tool_call_detail.png)\n",
    "\n",
    "You can use the [`toolChoice` parameter](https://js.langchain.com/docs/how_to/tool_choice/) to enforce tool calling behavior."
   ]
  },
  {
   "cell_type": "code",
   "execution_count": 8,
   "id": "bfa57bc4",
   "metadata": {},
   "outputs": [
    {
     "name": "stderr",
     "output_type": "stream",
     "text": [
      "2:24 - Cannot find name 'llm'.\n",
      "2:39 - Cannot find name 'writeEmail'.\n"
     ]
    }
   ],
   "source": [
    "// Bind the writeEmail tool to the model, requiring tool use\n",
    "const modelWithTools = llm.bindTools([writeEmail], { toolChoice: \"required\" });\n",
    "\n",
    "// The model can now call tools\n",
    "const output = await modelWithTools.invoke(\"Draft a response to my boss about tomorrow's meeting\");"
   ]
  },
  {
   "cell_type": "code",
   "execution_count": 9,
   "id": "717779cb",
   "metadata": {},
   "outputs": [
    {
     "name": "stderr",
     "output_type": "stream",
     "text": [
      "2:22 - Cannot find name 'output'.\n"
     ]
    }
   ],
   "source": [
    "// Extract tool call arguments from the output\n",
    "const toolCallArgs = output.tool_calls?.[0]?.args;\n",
    "console.log(toolCallArgs);"
   ]
  },
  {
   "cell_type": "code",
   "execution_count": 10,
   "id": "09f85694",
   "metadata": {},
   "outputs": [
    {
     "name": "stderr",
     "output_type": "stream",
     "text": [
      "2:5 - Cannot find name 'toolCallArgs'.\n",
      "3:30 - Cannot find name 'writeEmail'.\n",
      "3:46 - Cannot find name 'toolCallArgs'.\n"
     ]
    }
   ],
   "source": [
    "// Call the tool with the extracted arguments\n",
    "if (toolCallArgs) {\n",
    "    const toolResult = await writeEmail.func(toolCallArgs);\n",
    "    console.log(toolResult); // \"Email sent to boss@company.com drafted with subject ...\"\n",
    "  }"
   ]
  },
  {
   "cell_type": "markdown",
   "id": "b6f9c52a",
   "metadata": {},
   "source": [
    "Above, we enforce tool calling by setting `toolChoice: \"required\"`, so the model will always call a tool to write an email.\n",
    "\n",
    "![basic_prompt](img/tool_call.png)\n",
    "\n",
    "## Workflows\n",
    "\n",
    "There are many patterns for building applications with LLMs.\n",
    "\n",
    "[You can embed LLM calls into pre-defined workflows](https://langchain-ai.github.io/langgraphjs/tutorials/workflows/), giving the system more agency to make decisions.\n",
    "\n",
    "As an example, you could add a router step to determine whether to write an email or not.\n",
    "\n",
    "![workflow_example](img/workflow_example.png)\n",
    "\n",
    "## Agents\n",
    "\n",
    "You can further increase agency, allowing the LLM to dynamically direct its own tool usage.\n",
    "\n",
    "[Agents](https://langchain-ai.github.io/langgraphjs/tutorials/workflows/) are typically implemented as tool calling in a loop, where the output of each tool call is used to inform the next action.\n",
    "\n",
    "![agent_example](img/agent_example.png)\n",
    "\n",
    "Agents are well suited to open-ended problems where it's difficult to predict the *exact* steps needed in advance.\n",
    "\n",
    "Workflows are often appropriate when the control flow can easily be defined in advance.\n",
    "\n",
    "![workflow_v_agent](img/workflow_v_agent.png)\n",
    "\n",
    "## What is LangGraph?\n",
    "\n",
    "[LangGraph](https://langchain-ai.github.io/langgraphjs/concepts/high_level/) provides low-level supporting infrastructure that sits underneath *any* workflow or agent.\n",
    "\n",
    "It does not abstract prompts or architecture, and provides a few benefits:\n",
    "\n",
    "- **Control**: Make it easy to define and/or combine agents and workflows.\n",
    "- **Persistence**: Provide a way to persist the state of a graph, which enables both memory and human-in-the-loop.\n",
    "- **Testing, Debugging, and Deployment**: Provide an easy onramp for testing, debugging, and deploying applications.\n",
    "\n",
    "### Control\n",
    "\n",
    "LangGraph lets you define your application as a graph with:\n",
    "\n",
    "1. *State*: What information do we need to track over the course of the application?\n",
    "2. *Nodes*: How do we want to update this information over the course of the application?\n",
    "3. *Edges*: How do we want to connect these nodes together?\n",
    "\n",
    "You can use the [`StateGraph` class](https://langchain-ai.github.io/langgraphjs/concepts/low_level/) to initialize a LangGraph graph with a [Zod schema](https://langchain-ai.github.io/langgraphjs/how-tos/define-state/) for your state.\n",
    "\n",
    "`State` defines the schema for information you want to track over the course of the application.\n",
    "\n",
    "In TypeScript, this is typically a Zod object schema, which provides runtime validation and type safety."
   ]
  },
  {
   "cell_type": "code",
   "execution_count": 11,
   "id": "3319290a",
   "metadata": {},
   "outputs": [
    {
     "name": "stderr",
     "output_type": "stream",
     "text": [
      "11:33 - Cannot find name 'StateSchemaType'.\n"
     ]
    }
   ],
   "source": [
    "import { StateGraph, START, END } from \"@langchain/langgraph\";\n",
    "import { z } from \"zod\";\n",
    "\n",
    "// Define the state schema using Zod\n",
    "const StateSchema = z.object({\n",
    "  request: z.string(),\n",
    "  email: z.string(),\n",
    "});\n",
    "\n",
    "// Initialize the workflow graph\n",
    "const workflow = new StateGraph<StateSchemaType>(StateSchema);"
   ]
  },
  {
   "cell_type": "markdown",
   "id": "b84bedb9",
   "metadata": {},
   "source": [
    "Each node is simply a TypeScript function. This gives you full control over the logic inside each node.\n",
    "\n",
    "Nodes receive the current state and return an object to update the state.\n",
    "\n",
    "By default, [state keys are overwritten](https://langchain-ai.github.io/langgraphjs/how-tos/state-reducers/).\n",
    "\n",
    "However, you can [define custom update logic (reducers)](https://langchain-ai.github.io/langgraphjs/concepts/low_level/#reducers) to control how state is merged or updated.\n",
    "\n",
    "![nodes_edges](img/nodes_edges.png)"
   ]
  },
  {
   "cell_type": "code",
   "execution_count": 12,
   "id": "d5e79c1f",
   "metadata": {},
   "outputs": [
    {
     "name": "stderr",
     "output_type": "stream",
     "text": [
      "4:26 - Cannot find name 'modelWithTools'.\n",
      "8:21 - Cannot find name 'writeEmail'.\n"
     ]
    }
   ],
   "source": [
    "// Node function for writing an email\n",
    "const writeEmailNode = async (state) => {\n",
    "    // Imperative code that processes the request\n",
    "    const output = await modelWithTools.invoke(state.request);\n",
    "    const args = output.tool_calls?.[0]?.args;\n",
    "    let email = \"\";\n",
    "    if (args) {\n",
    "      email = await writeEmail.func(args);\n",
    "    }\n",
    "    return { email };\n",
    "  };"
   ]
  },
  {
   "cell_type": "markdown",
   "id": "737c8040",
   "metadata": {},
   "source": [
    "Edges connect nodes together. \n",
    "\n",
    "We specify the control flow by adding edges and nodes to our state graph. "
   ]
  },
  {
   "cell_type": "code",
   "execution_count": 13,
   "id": "554e0d8b",
   "metadata": {},
   "outputs": [
    {
     "name": "stderr",
     "output_type": "stream",
     "text": [
      "2:1 - Cannot find name 'workflow'.\n",
      "3:32 - Cannot find name 'writeEmailNode'.\n",
      "4:12 - Cannot find name 'START'.\n",
      "5:32 - Cannot find name 'END'.\n",
      "8:13 - Cannot find name 'workflow'.\n"
     ]
    }
   ],
   "source": [
    "// Add the node and edges to the workflow\n",
    "workflow\n",
    "  .addNode(\"write_email_node\", writeEmailNode)\n",
    "  .addEdge(START, \"write_email_node\")\n",
    "  .addEdge(\"write_email_node\", END);\n",
    "\n",
    "// Compile the workflow\n",
    "const app = workflow.compile();"
   ]
  },
  {
   "cell_type": "code",
   "execution_count": 25,
   "id": "7cc79b40",
   "metadata": {},
   "outputs": [
    {
     "data": {
      "text/plain": [
       "{'request': \"Draft a response to my boss about tomorrow's meeting\",\n",
       " 'email': \"Email sent to boss@example.com with subject 'Re: Tomorrow's Meeting' and content: Hi [Boss's Name],\\n\\nI hope this message finds you well. I am writing to confirm my attendance at tomorrow's meeting. Please let me know if there are any specific topics or materials you would like me to prepare in advance.\\n\\nLooking forward to our discussion.\\n\\nBest regards,\\n\\n[Your Name]\"}"
      ]
     },
     "execution_count": 25,
     "metadata": {},
     "output_type": "execute_result"
    }
   ],
   "source": [
    "// Run the workflow\n",
    "const workflowResult = await app.invoke({ request: \"Draft a response to my boss about tomorrow's meeting\" });\n",
    "console.log(workflowResult);"
   ]
  },
  {
   "cell_type": "markdown",
   "id": "2446dea9",
   "metadata": {},
   "source": [
    "Routing between nodes can be done [conditionally](https://langchain-ai.github.io/langgraphjs/concepts/low_level/#conditional-edges) using a simple function.\n",
    "\n",
    "The return value of this function is used as the name of the node (or list of nodes) to send the state to next.\n",
    "\n",
    "You can optionally provide a mapping object that maps the output of your router function to the name of the next node."
   ]
  },
  {
   "cell_type": "code",
   "execution_count": 14,
   "id": "f29b05bf",
   "metadata": {},
   "outputs": [
    {
     "name": "stderr",
     "output_type": "stream",
     "text": [
      "3:49 - Cannot find module '@langchain/langgraph-sdk' or its corresponding type declarations.\n",
      "13:24 - Cannot find name 'modelWithTools'.\n",
      "23:33 - Cannot find name 'writeEmail'.\n",
      "45:41 - Cannot find name 'MessagesStateType'.\n"
     ]
    }
   ],
   "source": [
    "import { z } from \"zod\";\n",
    "import { StateGraph, START, END } from \"@langchain/langgraph\";\n",
    "import { Message, AIMessage, ToolMessage } from \"@langchain/langgraph-sdk\";\n",
    "\n",
    "// Define the MessagesState schema\n",
    "const MessagesState = z.object({\n",
    "  messages: z.array(z.any()), // Use a more specific type if available\n",
    "});\n",
    "\n",
    "\n",
    "// Node: call_llm\n",
    "const callLlm = async (state) => {\n",
    "  const output = await modelWithTools.invoke(state.messages);\n",
    "  return { messages: [output] };\n",
    "};\n",
    "\n",
    "// Node: run_tool\n",
    "const runTool = async (state) => {\n",
    "  const lastMessage = state.messages[state.messages.length - 1] ;\n",
    "  const result = [];\n",
    "  if (lastMessage.tool_calls) {\n",
    "    for (const toolCall of lastMessage.tool_calls) {\n",
    "      const observation = await writeEmail.func(toolCall.args);\n",
    "      result.push({\n",
    "        type: \"tool\",\n",
    "        content: observation,\n",
    "        tool_call_id: toolCall.id,\n",
    "      });\n",
    "    }\n",
    "  }\n",
    "  return { messages: result };\n",
    "};\n",
    "\n",
    "// Conditional router\n",
    "const shouldContinue = (state) => {\n",
    "  const messages = state.messages;\n",
    "  const lastMessage = messages[messages.length - 1] ;\n",
    "  if (lastMessage.tool_calls && lastMessage.tool_calls.length > 0) {\n",
    "    return \"run_tool\";\n",
    "  }\n",
    "  return END;\n",
    "};\n",
    "\n",
    "// Build the workflow\n",
    "const messagesWorkflow = new StateGraph<MessagesStateType>(MessagesState)\n",
    "  .addNode(\"call_llm\", callLlm)\n",
    "  .addNode(\"run_tool\", runTool)\n",
    "  .addEdge(START, \"call_llm\")\n",
    "  .addConditionalEdges(\"call_llm\", shouldContinue, { run_tool: \"run_tool\", [END]: END })\n",
    "  .addEdge(\"run_tool\", END);\n",
    "\n",
    "const messagesApp = messagesWorkflow.compile();"
   ]
  },
  {
   "cell_type": "code",
   "execution_count": 32,
   "id": "dadbafde",
   "metadata": {},
   "outputs": [
    {
     "data": {
      "text/plain": [
       "[HumanMessage(content=\"Draft a response to my boss about tomorrow's meeting\", additional_kwargs={}, response_metadata={}, id='5e2d9fe3-c075-47ba-a253-f06ffb67aab5'),\n",
       " AIMessage(content='', additional_kwargs={'tool_calls': [{'id': 'call_iIS382COCMtqYtfwIfBBf8P9', 'function': {'arguments': '{\"to\":\"boss@example.com\",\"subject\":\"Re: Tomorrow\\'s Meeting\",\"content\":\"Hi [Boss\\'s Name],\\\\n\\\\nI hope this message finds you well. I am writing to confirm my attendance at tomorrow\\'s meeting. Please let me know if there are any specific topics or materials you would like me to prepare in advance.\\\\n\\\\nLooking forward to our discussion.\\\\n\\\\nBest regards,\\\\n\\\\n[Your Name]\"}', 'name': 'write_email'}, 'type': 'function'}], 'refusal': None}, response_metadata={'token_usage': {'completion_tokens': 97, 'prompt_tokens': 61, 'total_tokens': 158, 'completion_tokens_details': {'accepted_prediction_tokens': 0, 'audio_tokens': 0, 'reasoning_tokens': 0, 'rejected_prediction_tokens': 0}, 'prompt_tokens_details': {'audio_tokens': 0, 'cached_tokens': 0}}, 'model_name': 'gpt-4o-2024-08-06', 'system_fingerprint': 'fp_90122d973c', 'id': 'chatcmpl-BTwquc2LNqLegxeH93d9gDyD3tRcf', 'finish_reason': 'tool_calls', 'logprobs': None}, id='run-ded32fbe-2094-4a9d-93ca-8e3bd79b35f0-0', tool_calls=[{'name': 'write_email', 'args': {'to': 'boss@example.com', 'subject': \"Re: Tomorrow's Meeting\", 'content': \"Hi [Boss's Name],\\n\\nI hope this message finds you well. I am writing to confirm my attendance at tomorrow's meeting. Please let me know if there are any specific topics or materials you would like me to prepare in advance.\\n\\nLooking forward to our discussion.\\n\\nBest regards,\\n\\n[Your Name]\"}, 'id': 'call_iIS382COCMtqYtfwIfBBf8P9', 'type': 'tool_call'}], usage_metadata={'input_tokens': 61, 'output_tokens': 97, 'total_tokens': 158, 'input_token_details': {'audio': 0, 'cache_read': 0}, 'output_token_details': {'audio': 0, 'reasoning': 0}}),\n",
       " ToolMessage(content=\"Email sent to boss@example.com with subject 'Re: Tomorrow's Meeting' and content: Hi [Boss's Name],\\n\\nI hope this message finds you well. I am writing to confirm my attendance at tomorrow's meeting. Please let me know if there are any specific topics or materials you would like me to prepare in advance.\\n\\nLooking forward to our discussion.\\n\\nBest regards,\\n\\n[Your Name]\", id='d77958ea-98d9-40fb-8771-c91924a81bdc', tool_call_id='call_iIS382COCMtqYtfwIfBBf8P9')]"
      ]
     },
     "execution_count": 32,
     "metadata": {},
     "output_type": "execute_result"
    }
   ],
   "source": [
    "// Run the workflow (visualization is not included in TypeScript)\n",
    "// Example invocation:\n",
    "const messagesResult = await messagesApp.invoke({\n",
    "    messages: [\n",
    "      { type: \"human\", content: \"Draft a response to my boss about tomorrow's meeting\" }\n",
    "    ]\n",
    "  });\n",
    "  console.log(messagesResult);"
   ]
  },
  {
   "cell_type": "markdown",
   "id": "a78b232d",
   "metadata": {},
   "source": [
    "With these low-level components, you can build many different workflows and agents. See the [workflows tutorial](https://langchain-ai.github.io/langgraphjs/tutorials/workflows/) for more examples!\n",
    "\n",
    "Because agents are such a common pattern, [LangGraph](https://langchain-ai.github.io/langgraphjs/tutorials/workflows/#pre-built) provides a [pre-built agent abstraction](https://langchain-ai.github.io/langgraphjs/agents/overview/).\n",
    "\n",
    "With LangGraph's [pre-built method](https://langchain-ai.github.io/langgraphjs/how-tos/create-react-agent/), you just pass in the LLM, tools, and prompt."
   ]
  },
  {
   "cell_type": "code",
   "execution_count": 36,
   "id": "5a317ad8",
   "metadata": {},
   "outputs": [
    {
     "data": {
      "text/plain": [
       "{'messages': [HumanMessage(content=\"Draft a response to my boss about tomorrow's meeting\", additional_kwargs={}, response_metadata={}, id='b38b8654-8947-4f76-9d33-a3c30bb1ad1f'),\n",
       "  AIMessage(content='Of course! Could you please provide a bit more detail? For example:\\n\\n- What is the purpose or topic of the meeting?\\n- Do you want to confirm your attendance, ask to reschedule, or provide any specific information?\\n- Is there a particular tone you’d like (formal, friendly, etc.)?\\n\\nLet me know so I can tailor the response to your needs!', additional_kwargs={'refusal': None}, response_metadata={'token_usage': {'completion_tokens': 78, 'prompt_tokens': 71, 'total_tokens': 149, 'completion_tokens_details': {'accepted_prediction_tokens': 0, 'audio_tokens': 0, 'reasoning_tokens': 0, 'rejected_prediction_tokens': 0}, 'prompt_tokens_details': {'audio_tokens': 0, 'cached_tokens': 0}}, 'model_name': 'gpt-4.1-2025-04-14', 'system_fingerprint': 'fp_cf18407276', 'id': 'chatcmpl-BUJdSwIfBhV1zKy9CFFuAzRnGAAHv', 'finish_reason': 'stop', 'logprobs': None}, id='run-25f15909-fe23-4630-9921-00c292e64b0c-0', usage_metadata={'input_tokens': 71, 'output_tokens': 78, 'total_tokens': 149, 'input_token_details': {'audio': 0, 'cache_read': 0}, 'output_token_details': {'audio': 0, 'reasoning': 0}})]}"
      ]
     },
     "execution_count": 36,
     "metadata": {},
     "output_type": "execute_result"
    }
   ],
   "source": [
    "import { createReactAgent } from \"@langchain/langgraph/prebuilt\";\n",
    "\n",
    "// Create a prebuilt React agent\n",
    "const agent = createReactAgent({\n",
    "  model: llm,\n",
    "  tools: [writeEmail],\n",
    "  prompt: \"Respond to the user's request using the tools provided.\",\n",
    "});\n",
    "\n",
    "// Run the agent\n",
    "const agentResult = await agent.invoke({\n",
    "  messages: [{ type: \"human\", content: \"Draft a response to my boss about tomorrow's meeting\" }],\n",
    "});\n",
    "console.log(agentResult);"
   ]
  },
  {
   "cell_type": "markdown",
   "id": "3c6e506f",
   "metadata": {},
   "source": [
    "### Persistence\n",
    "\n",
    "It can be very useful to allow agents to pause and gather human feedback.\n",
    "\n",
    "LangGraph has a built-in persistence layer, implemented through [checkpointers](https://langchain-ai.github.io/langgraphjs/concepts/persistence/#checkpoints), to enable this.\n",
    "\n",
    "When you compile a graph with a checkpointer, the checkpointer saves a checkpoint of the graph state at every step.\n",
    "\n",
    "Checkpoints are saved to a thread, which can be accessed after graph execution.\n",
    "\n",
    "![checkpointer](img/checkpoints.png)"
   ]
  },
  {
   "cell_type": "code",
   "execution_count": 41,
   "id": "9a72377e",
   "metadata": {},
   "outputs": [],
   "source": [
    "import { InMemorySaver } from \"@langchain/langgraph\";\n",
    "\n",
    "// Create a React agent with in-memory checkpointing\n",
    "const agentWithCheckpoint = createReactAgent({\n",
    "  model: llm,\n",
    "  tools: [writeEmail],\n",
    "  prompt: \"Respond to the user's request using the tools provided.\",\n",
    "  checkpointer: new InMemorySaver(),\n",
    "});\n",
    "\n",
    "// Config for thread id\n",
    "const config = { configurable: { thread_id: \"1\" } };\n",
    "\n",
    "// Run the agent with checkpointing\n",
    "const checkpointResult = await agentWithCheckpoint.invoke(\n",
    "  {\n",
    "    messages: [{ type: \"human\", content: \"What are some good practices for writing emails?\" }],\n",
    "  },\n",
    "  config\n",
    ");\n",
    "console.log(checkpointResult);"
   ]
  },
  {
   "cell_type": "code",
   "execution_count": 43,
   "id": "10984007",
   "metadata": {},
   "outputs": [
    {
     "name": "stdout",
     "output_type": "stream",
     "text": [
      "================================\u001b[1m Human Message \u001b[0m=================================\n",
      "\n",
      "What are some good practices for writing emails?\n",
      "==================================\u001b[1m Ai Message \u001b[0m==================================\n",
      "\n",
      "Here are some good practices for writing effective emails:\n",
      "\n",
      "1. **Use a Clear Subject Line:** Make your subject concise and informative so the recipient knows what to expect.\n",
      "\n",
      "2. **Greet Appropriately:** Start with a polite greeting, using the recipient’s name if possible.\n",
      "\n",
      "3. **Be Concise and to the Point:** State your purpose early and keep your message focused.\n",
      "\n",
      "4. **Use Proper Grammar and Spelling:** Proofread your email to avoid errors and maintain professionalism.\n",
      "\n",
      "5. **Structure Your Email:** Use short paragraphs, bullet points, or numbered lists for clarity.\n",
      "\n",
      "6. **Be Polite and Professional:** Use courteous language and avoid slang or overly casual expressions.\n",
      "\n",
      "7. **Include a Call to Action:** Clearly state what you need from the recipient, if applicable.\n",
      "\n",
      "8. **Sign Off Properly:** End with a polite closing (e.g., “Best regards,” “Sincerely”) and your name.\n",
      "\n",
      "9. **Use a Professional Email Address:** Ensure your email address is appropriate for business communication.\n",
      "\n",
      "10. **Check Attachments:** If you mention attachments, make sure they are included before sending.\n",
      "\n",
      "Would you like tips for a specific type of email (e.g., business, networking, follow-up)?\n"
     ]
    }
   ],
   "source": [
    "// Get the latest state snapshot for the thread\n",
    "const state = await agentWithCheckpoint.getState(config);\n",
    "for (const message of state.values.messages) {\n",
    "  // You can define a prettyPrint function or just log the message\n",
    "  console.log(message);\n",
    "}"
   ]
  },
  {
   "cell_type": "code",
   "execution_count": 44,
   "id": "7f23ac58",
   "metadata": {},
   "outputs": [
    {
     "name": "stdout",
     "output_type": "stream",
     "text": [
      "================================\u001b[1m Human Message \u001b[0m=================================\n",
      "\n",
      "What are some good practices for writing emails?\n",
      "==================================\u001b[1m Ai Message \u001b[0m==================================\n",
      "\n",
      "Here are some good practices for writing effective emails:\n",
      "\n",
      "1. **Use a Clear Subject Line:** Make your subject concise and informative so the recipient knows what to expect.\n",
      "\n",
      "2. **Greet Appropriately:** Start with a polite greeting, using the recipient’s name if possible.\n",
      "\n",
      "3. **Be Concise and to the Point:** State your purpose early and keep your message focused.\n",
      "\n",
      "4. **Use Proper Grammar and Spelling:** Proofread your email to avoid errors and maintain professionalism.\n",
      "\n",
      "5. **Structure Your Email:** Use short paragraphs, bullet points, or numbered lists for clarity.\n",
      "\n",
      "6. **Be Polite and Professional:** Use courteous language and avoid slang or overly casual expressions.\n",
      "\n",
      "7. **Include a Call to Action:** Clearly state what you need from the recipient, if applicable.\n",
      "\n",
      "8. **Sign Off Properly:** End with a polite closing (e.g., “Best regards,” “Sincerely”) and your name.\n",
      "\n",
      "9. **Use a Professional Email Address:** Ensure your email address is appropriate for business communication.\n",
      "\n",
      "10. **Check Attachments:** If you mention attachments, make sure they are included before sending.\n",
      "\n",
      "Would you like tips for a specific type of email (e.g., business, networking, follow-up)?\n",
      "================================\u001b[1m Human Message \u001b[0m=================================\n",
      "\n",
      "Good, let's use lesson 3 to craft a response to my boss about tomorrow's meeting\n",
      "==================================\u001b[1m Ai Message \u001b[0m==================================\n",
      "\n",
      "Absolutely! Lesson 3 is: **Be Concise and to the Point: State your purpose early and keep your message focused.**\n",
      "\n",
      "Here’s a concise and focused sample response to your boss about tomorrow’s meeting:\n",
      "\n",
      "---\n",
      "\n",
      "**Subject:** Re: Tomorrow’s Meeting\n",
      "\n",
      "Hi [Boss’s Name],\n",
      "\n",
      "Thank you for the update about tomorrow’s meeting. I confirm my attendance and will be prepared with the requested materials.\n",
      "\n",
      "Please let me know if there’s anything specific you’d like me to address.\n",
      "\n",
      "Best regards,  \n",
      "[Your Name]\n",
      "\n",
      "---\n",
      "\n",
      "Would you like to personalize this further or add any specific details?\n"
     ]
    }
   ],
   "source": [
    "// Get the latest state snapshot for the thread\n",
    "const state = await agentWithCheckpoint.getState(config);\n",
    "for (const message of state.values.messages) {\n",
    "  // You can define a prettyPrint function or just log the message\n",
    "  console.log(message);\n",
    "}"
   ]
  },
  {
   "cell_type": "code",
   "execution_count": 45,
   "id": "5f09fe50",
   "metadata": {},
   "outputs": [
    {
     "name": "stdout",
     "output_type": "stream",
     "text": [
      "================================\u001b[1m Human Message \u001b[0m=================================\n",
      "\n",
      "What are some good practices for writing emails?\n",
      "==================================\u001b[1m Ai Message \u001b[0m==================================\n",
      "\n",
      "Here are some good practices for writing effective emails:\n",
      "\n",
      "1. **Use a Clear Subject Line:** Make your subject concise and informative so the recipient knows what to expect.\n",
      "\n",
      "2. **Greet Appropriately:** Start with a polite greeting, using the recipient’s name if possible.\n",
      "\n",
      "3. **Be Concise and to the Point:** State your purpose early and keep your message focused.\n",
      "\n",
      "4. **Use Proper Grammar and Spelling:** Proofread your email to avoid errors and maintain professionalism.\n",
      "\n",
      "5. **Structure Your Email:** Use short paragraphs, bullet points, or numbered lists for clarity.\n",
      "\n",
      "6. **Be Polite and Professional:** Use courteous language and avoid slang or overly casual expressions.\n",
      "\n",
      "7. **Include a Call to Action:** Clearly state what you need from the recipient, if applicable.\n",
      "\n",
      "8. **Sign Off Properly:** End with a polite closing (e.g., “Best regards,” “Sincerely”) and your name.\n",
      "\n",
      "9. **Use a Professional Email Address:** Ensure your email address is appropriate for business communication.\n",
      "\n",
      "10. **Check Attachments:** If you mention attachments, make sure they are included before sending.\n",
      "\n",
      "Would you like tips for a specific type of email (e.g., business, networking, follow-up)?\n",
      "================================\u001b[1m Human Message \u001b[0m=================================\n",
      "\n",
      "Good, let's use lesson 3 to craft a response to my boss about tomorrow's meeting\n",
      "==================================\u001b[1m Ai Message \u001b[0m==================================\n",
      "\n",
      "Absolutely! Lesson 3 is: **Be Concise and to the Point: State your purpose early and keep your message focused.**\n",
      "\n",
      "Here’s a concise and focused sample response to your boss about tomorrow’s meeting:\n",
      "\n",
      "---\n",
      "\n",
      "**Subject:** Re: Tomorrow’s Meeting\n",
      "\n",
      "Hi [Boss’s Name],\n",
      "\n",
      "Thank you for the update about tomorrow’s meeting. I confirm my attendance and will be prepared with the requested materials.\n",
      "\n",
      "Please let me know if there’s anything specific you’d like me to address.\n",
      "\n",
      "Best regards,  \n",
      "[Your Name]\n",
      "\n",
      "---\n",
      "\n",
      "Would you like to personalize this further or add any specific details?\n",
      "================================\u001b[1m Human Message \u001b[0m=================================\n",
      "\n",
      "I like this, let's write the email\n",
      "==================================\u001b[1m Ai Message \u001b[0m==================================\n",
      "Tool Calls:\n",
      "  write_email (call_SwjJrNjGBTjpTLIhByhohrby)\n",
      " Call ID: call_SwjJrNjGBTjpTLIhByhohrby\n",
      "  Args:\n",
      "    to: [Boss’s Email]\n",
      "    subject: Re: Tomorrow’s Meeting\n",
      "    content: Hi [Boss’s Name],\n",
      "\n",
      "Thank you for the update about tomorrow’s meeting. I confirm my attendance and will be prepared with the requested materials.\n",
      "\n",
      "Please let me know if there’s anything specific you’d like me to address.\n",
      "\n",
      "Best regards,\n",
      "[Your Name]\n",
      "=================================\u001b[1m Tool Message \u001b[0m=================================\n",
      "Name: write_email\n",
      "\n",
      "Email sent to [Boss’s Email] with subject 'Re: Tomorrow’s Meeting' and content: Hi [Boss’s Name],\n",
      "\n",
      "Thank you for the update about tomorrow’s meeting. I confirm my attendance and will be prepared with the requested materials.\n",
      "\n",
      "Please let me know if there’s anything specific you’d like me to address.\n",
      "\n",
      "Best regards,\n",
      "[Your Name]\n",
      "==================================\u001b[1m Ai Message \u001b[0m==================================\n",
      "\n",
      "The email has been drafted and sent with a concise, focused response confirming your attendance at tomorrow’s meeting. If you’d like to personalize it further (with your boss’s name or your own), just let me know!\n"
     ]
    }
   ],
   "source": [
    "// Continue the conversation again\n",
    "const finalResult = await agentWithCheckpoint.invoke(\n",
    "    {\n",
    "      messages: [\n",
    "        { type: \"human\", content: \"I like this, let's write the email\" },\n",
    "      ],\n",
    "    },\n",
    "    config\n",
    "  );\n",
    "  for (const m of finalResult.messages) {\n",
    "    console.log(m);\n",
    "  }"
   ]
  },
  {
   "cell_type": "markdown",
   "id": "8639a518",
   "metadata": {},
   "source": [
    "### Testing, Debugging, and Deployment\n",
    "\n",
    "When using LangChain or LangGraph JS, [LangSmith logging works out of the box](https://docs.smith.langchain.com/observability/how_to_guides/trace_with_langgraph) by setting the following environment variables:\n"
   ]
  },
  {
   "cell_type": "code",
   "execution_count": null,
   "id": "45f864ca",
   "metadata": {},
   "outputs": [],
   "source": [
    "// Set LangSmith tracing environment variables in your .env or process environment\n",
    "// Example (do this in your shell or .env file, not in code):\n",
    "// process.env.LANGSMITH_TRACING = \"true\";\n",
    "// process.env.LANGSMITH_API_KEY = \"<your-langsmith-api-key>\";"
   ]
  },
  {
   "cell_type": "markdown",
   "id": "9cb2a3e5",
   "metadata": {},
   "source": [
    "Here is the LangSmith trace from above graph execution:\n",
    "\n",
    "https://smith.langchain.com/public/6f77014f-d054-44ed-aa2c-8b06ceab689f/r\n",
    "\n",
    "We can see that the agent is able to continue the conversation from the previous state because we used a checkpointer."
   ]
  },
  {
   "cell_type": "markdown",
   "id": "f0269214",
   "metadata": {},
   "source": [
    "It's also easy to deploy to deploy our graph using [LangGraph Platform](https://langchain-ai.github.io/langgraphjs/concepts/langgraph_platform/). \n",
    "\n",
    "We simply need to ensure our project has [a structure](https://langchain-ai.github.io/langgraphjs/cloud/deployment/setup_javascript/) like this:\n",
    "\n",
    "```\n",
    "my-app/\n",
    "├── my_agent # all project code lies within here\n",
    "│   └── agent.py # code for constructing your graph\n",
    "├── .env # environment variables\n",
    "├── langgraph.json  # configuration file for LangGraph\n",
    "└── pyproject.toml # dependencies for your project\n",
    "```\n",
    "\n",
    "The `langgraph.json` file specifies the dependencies, graphs, environment variables, and other settings required to deploy a LangGraph application.\n",
    "\n",
    "To test this, let's deploy `langgraph_101.py`. We have it in our `langgraph.json` file in this repo:\n",
    "\n",
    "```\n",
    " \"langgraph101\": \"./src/email_assistant/langgraph101.py:app\",\n",
    "```\n",
    "\n",
    "There are a range of [deployment options](https://langchain-ai.github.io/langgraphjs/tutorials/deployment/). \n",
    "\n",
    "* All create an API [server](https://langchain-ai.github.io/langgraphjs/concepts/langgraph_server/) for our graph\n",
    "* All include an interactive IDE (LangGraph [Studio](https://langchain-ai.github.io/langgraphjs)).\n",
    " \n",
    "We can start a deployment locally using `langgraph dev`:"
   ]
  },
  {
   "cell_type": "raw",
   "id": "edf38d37",
   "metadata": {
    "vscode": {
     "languageId": "raw"
    }
   },
   "source": [
    "langgraph dev"
   ]
  },
  {
   "cell_type": "markdown",
   "id": "f3644093",
   "metadata": {},
   "source": [
    "Here we can see a visualization of the graph as well as the graph state in Studio.\n",
    "\n",
    "![langgraph_studio](img/langgraph_studio.png)"
   ]
  },
  {
   "cell_type": "markdown",
   "id": "226a3f4a",
   "metadata": {},
   "source": []
  }
 ],
 "metadata": {
  "jupytext": {
   "cell_metadata_filter": "-all",
   "main_language": "python",
   "notebook_metadata_filter": "-all"
  },
  "kernelspec": {
   "display_name": "TypeScript",
   "language": "typescript",
   "name": "tslab"
  },
  "language_info": {
   "codemirror_mode": {
    "mode": "typescript",
    "name": "javascript",
    "typescript": true
   },
   "file_extension": ".ts",
   "mimetype": "text/typescript",
   "name": "typescript",
   "version": "3.7.2"
  }
 },
 "nbformat": 4,
 "nbformat_minor": 5
}
